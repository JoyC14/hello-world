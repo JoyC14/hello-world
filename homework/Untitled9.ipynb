{
 "cells": [
  {
   "cell_type": "code",
   "execution_count": 1,
   "metadata": {},
   "outputs": [],
   "source": [
    "def quicksort(x):\n",
    "    left=[]\n",
    "    pivot=[]\n",
    "    right=[]\n",
    "    if len(x)<=1:\n",
    "        return x\n",
    "    else:\n",
    "        k=x[-1]\n",
    "        for i in x:\n",
    "            if i<k:\n",
    "                left.append(i)\n",
    "            elif i>k:\n",
    "                right.append(i)\n",
    "            else:\n",
    "                pivot.append(i)\n",
    "    left = quicksort(left)\n",
    "    right = quicksort(right)\n",
    "    return left+pivot+right"
   ]
  },
  {
   "cell_type": "code",
   "execution_count": 2,
   "metadata": {},
   "outputs": [],
   "source": [
    "x=[9,5,13,28,305,189,78,49,100]"
   ]
  },
  {
   "cell_type": "code",
   "execution_count": 3,
   "metadata": {},
   "outputs": [
    {
     "data": {
      "text/plain": [
       "[5, 9, 13, 28, 49, 78, 100, 189, 305]"
      ]
     },
     "execution_count": 3,
     "metadata": {},
     "output_type": "execute_result"
    }
   ],
   "source": [
    "quicksort(x)"
   ]
  },
  {
   "cell_type": "code",
   "execution_count": null,
   "metadata": {},
   "outputs": [],
   "source": []
  }
 ],
 "metadata": {
  "kernelspec": {
   "display_name": "Python 3",
   "language": "python",
   "name": "python3"
  },
  "language_info": {
   "codemirror_mode": {
    "name": "ipython",
    "version": 3
   },
   "file_extension": ".py",
   "mimetype": "text/x-python",
   "name": "python",
   "nbconvert_exporter": "python",
   "pygments_lexer": "ipython3",
   "version": "3.7.1"
  }
 },
 "nbformat": 4,
 "nbformat_minor": 2
}
